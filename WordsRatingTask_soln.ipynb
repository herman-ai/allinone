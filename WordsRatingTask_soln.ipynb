{
 "cells": [
  {
   "cell_type": "markdown",
   "metadata": {
    "colab_type": "text",
    "id": "Ebk-YqgqEOw1"
   },
   "source": [
    "# Hadoop Streaming assignment 1: Words Rating"
   ]
  },
  {
   "cell_type": "markdown",
   "metadata": {
    "colab_type": "text",
    "id": "XDLjl7hGEOw2"
   },
   "source": [
    "The purpose of this task is to create your own WordCount program for Wikipedia dump processing and learn basic concepts of the MapReduce.\n",
    "\n",
    "In this task you have to find the 7th word by popularity and its quantity in the reverse order (most popular first) in Wikipedia data (`/data/wiki/en_articles_part`).\n",
    "\n",
    "There are several points for this task:\n",
    "\n",
    "1) As an output, you have to get the 7th word and its quantity separated by a tab character.\n",
    "\n",
    "2) You must use the second job to obtain a totally ordered result.\n",
    "\n",
    "3) Do not forget to redirect all trash and output to /dev/null.\n",
    "\n",
    "Here you can find the draft of the task main steps. You can use other methods for solution obtaining."
   ]
  },
  {
   "cell_type": "markdown",
   "metadata": {
    "colab_type": "text",
    "id": "lIUikVIDEOw2"
   },
   "source": [
    "## Step 1. Create mapper and reducer.\n",
    "\n",
    "<b>Hint:</b>  Demo task contains almost all the necessary pieces to complete this assignment. You may use the demo to implement the first MapReduce Job."
   ]
  },
  {
   "cell_type": "code",
   "execution_count": 20,
   "metadata": {
    "colab": {
     "autoexec": {
      "startup": false,
      "wait_interval": 0
     }
    },
    "colab_type": "code",
    "id": "A7T5mxDwEOw4"
   },
   "outputs": [
    {
     "name": "stdout",
     "output_type": "stream",
     "text": [
      "Overwriting mapper1.py\n"
     ]
    }
   ],
   "source": [
    "%%writefile mapper1.py\n",
    "#!/usr/bin/python3\n",
    "\n",
    "import sys\n",
    "import re\n",
    "\n",
    "for line in sys.stdin:\n",
    "    try:\n",
    "        id, text = re.split('\\s+', line.strip(), 1)\n",
    "        words = re.split('\\W*\\s+\\W*', text)\n",
    "        for word in words:\n",
    "            print(\"{}\\t{}\".format(word.lower(), 1))\n",
    "    except ValueError as e:\n",
    "        continue\n"
   ]
  },
  {
   "cell_type": "code",
   "execution_count": 21,
   "metadata": {},
   "outputs": [
    {
     "name": "stdout",
     "output_type": "stream",
     "text": [
      "Overwriting mapper2.py\n"
     ]
    }
   ],
   "source": [
    "%%writefile mapper2.py\n",
    "#!/usr/bin/python3\n",
    "\n",
    "import sys\n",
    "\n",
    "for line in sys.stdin:\n",
    "    try:\n",
    "        word, count = line.strip().split('\\t', 1)\n",
    "        print(\"{}\\t{}\".format(count, word))\n",
    "    except ValueError as e:\n",
    "        continue\n"
   ]
  },
  {
   "cell_type": "code",
   "execution_count": 22,
   "metadata": {
    "colab": {
     "autoexec": {
      "startup": false,
      "wait_interval": 0
     }
    },
    "colab_type": "code",
    "id": "oE8KFKqpEOw5"
   },
   "outputs": [
    {
     "name": "stdout",
     "output_type": "stream",
     "text": [
      "Overwriting reducer1.py\n"
     ]
    }
   ],
   "source": [
    "%%writefile reducer1.py\n",
    "#!/usr/bin/python3\n",
    "\n",
    "from __future__ import print_function\n",
    "\n",
    "import sys\n",
    "\n",
    "key = None\n",
    "total = 0\n",
    "for line in sys.stdin:\n",
    "    try:\n",
    "        word, count = line.strip().split('\\t', 1)\n",
    "        count = int(count)\n",
    "        if key != word:\n",
    "            if key is not None:\n",
    "                print(\"{}\\t{}\".format(key, total))\n",
    "            key=word\n",
    "            total = 0\n",
    "        total += count\n",
    "    except ValueError as e:\n",
    "            continue\n",
    "\n",
    "if key is not None:\n",
    "    print(\"{}\\t{}\".format(key, total))\n",
    "\n",
    "# Your code for reducer here."
   ]
  },
  {
   "cell_type": "code",
   "execution_count": 23,
   "metadata": {},
   "outputs": [
    {
     "name": "stdout",
     "output_type": "stream",
     "text": [
      "Overwriting reducer2.py\n"
     ]
    }
   ],
   "source": [
    "%%writefile reducer2.py\n",
    "#!/usr/bin/python3\n",
    "\n",
    "import sys\n",
    "\n",
    "for line in sys.stdin:\n",
    "    try:\n",
    "        count, word = line.strip().split('\\t', 1)\n",
    "        print(\"{}\\t{}\".format(word, count))\n",
    "    except ValueError as e:\n",
    "        continue\n",
    "\n"
   ]
  },
  {
   "cell_type": "code",
   "execution_count": 28,
   "metadata": {
    "colab": {
     "autoexec": {
      "startup": false,
      "wait_interval": 0
     }
    },
    "colab_type": "code",
    "id": "LJtc3_u0uXSz"
   },
   "outputs": [],
   "source": [
    "# %%bash\n",
    "\n",
    "# # You can use this cell for other experiments: for example, for combiner.\n",
    "# # hdfs dfs -copyToLocal /data/wiki/en_articles_part dir_on_host/\n",
    "\n",
    "# #cat dir_on_host/en_articles_part/articles-part | tail -n2 |  /usr/bin/python3.5 mapper1.py | sort | /usr/bin/python3.5 reducer1.py | python3.5 mapper2.py | sort -k1,1nr | python3.5 reducer2.py\n",
    "# hdfs dfs -cat /data/wiki/en_articles_part/* | tail -n2 |  python2 mapper1.py | sort | python2 reducer1.py | python2 mapper2.py #| sort -k1,1nr | python2 reducer2.py\n"
   ]
  },
  {
   "cell_type": "markdown",
   "metadata": {
    "colab_type": "text",
    "id": "KYZpcwY9EOw6"
   },
   "source": [
    "## Step 2. Create sort job.\n",
    "\n",
    "<b>Hint:</b> You may use MapReduce comparator to solve this step. Make sure that the keys are sorted in ascending order."
   ]
  },
  {
   "cell_type": "code",
   "execution_count": 25,
   "metadata": {
    "colab": {
     "autoexec": {
      "startup": false,
      "wait_interval": 0
     }
    },
    "colab_type": "code",
    "id": "g-NMzQ79EOw7"
   },
   "outputs": [],
   "source": [
    "# Your code for sort job here. Don't forget to use magic writefile"
   ]
  },
  {
   "cell_type": "markdown",
   "metadata": {
    "colab_type": "text",
    "id": "4OBE81GZEOw8"
   },
   "source": [
    "## Step 3. Bash commands\n",
    "\n",
    "<b> Hint: </b> For printing the exact row you may use basic UNIX commands. For instance, sed/head/tail/... (if you know other commands, you can use them).\n",
    "\n",
    "To run both jobs, you must use two consecutive yarn-commands. Remember that the input for the second job is the ouput for the first job."
   ]
  },
  {
   "cell_type": "code",
   "execution_count": 27,
   "metadata": {
    "colab": {
     "autoexec": {
      "startup": false,
      "wait_interval": 0
     }
    },
    "colab_type": "code",
    "id": "1q9NczdIEOw9",
    "scrolled": true
   },
   "outputs": [
    {
     "name": "stdout",
     "output_type": "stream",
     "text": [
      "starting the second job.\n"
     ]
    },
    {
     "name": "stderr",
     "output_type": "stream",
     "text": [
      "rm: `/user/jovyan/job1/': No such file or directory\n",
      "rm: `/user/jovyan/job2/': No such file or directory\n",
      "20/07/23 00:46:08 INFO client.RMProxy: Connecting to ResourceManager at /0.0.0.0:8032\n",
      "20/07/23 00:46:09 INFO client.RMProxy: Connecting to ResourceManager at /0.0.0.0:8032\n",
      "20/07/23 00:46:10 INFO mapred.FileInputFormat: Total input files to process : 1\n",
      "20/07/23 00:46:10 INFO mapreduce.JobSubmitter: number of splits:2\n",
      "20/07/23 00:46:10 INFO mapreduce.JobSubmitter: Submitting tokens for job: job_1595461094862_0004\n",
      "20/07/23 00:46:11 INFO impl.YarnClientImpl: Submitted application application_1595461094862_0004\n",
      "20/07/23 00:46:11 INFO mapreduce.Job: The url to track the job: http://83d2bee5f05d:8088/proxy/application_1595461094862_0004/\n",
      "20/07/23 00:46:11 INFO mapreduce.Job: Running job: job_1595461094862_0004\n",
      "20/07/23 00:46:18 INFO mapreduce.Job: Job job_1595461094862_0004 running in uber mode : false\n",
      "20/07/23 00:46:18 INFO mapreduce.Job:  map 0% reduce 0%\n",
      "20/07/23 00:46:31 INFO ipc.Client: Retrying connect to server: 83d2bee5f05d/172.17.0.2:34383. Already tried 0 time(s); retry policy is RetryUpToMaximumCountWithFixedSleep(maxRetries=3, sleepTime=1000 MILLISECONDS)\n",
      "20/07/23 00:46:32 INFO ipc.Client: Retrying connect to server: 83d2bee5f05d/172.17.0.2:34383. Already tried 1 time(s); retry policy is RetryUpToMaximumCountWithFixedSleep(maxRetries=3, sleepTime=1000 MILLISECONDS)\n",
      "20/07/23 00:46:33 INFO ipc.Client: Retrying connect to server: 83d2bee5f05d/172.17.0.2:34383. Already tried 2 time(s); retry policy is RetryUpToMaximumCountWithFixedSleep(maxRetries=3, sleepTime=1000 MILLISECONDS)\n",
      "20/07/23 00:46:33 WARN ipc.Client: Failed to connect to server: 83d2bee5f05d/172.17.0.2:34383: retries get failed due to exceeded maximum allowed retries number: 3\n",
      "java.net.ConnectException: Connection refused\n",
      "\tat sun.nio.ch.SocketChannelImpl.checkConnect(Native Method)\n",
      "\tat sun.nio.ch.SocketChannelImpl.finishConnect(SocketChannelImpl.java:717)\n",
      "\tat org.apache.hadoop.net.SocketIOWithTimeout.connect(SocketIOWithTimeout.java:206)\n",
      "\tat org.apache.hadoop.net.NetUtils.connect(NetUtils.java:531)\n",
      "\tat org.apache.hadoop.net.NetUtils.connect(NetUtils.java:495)\n",
      "\tat org.apache.hadoop.ipc.Client$Connection.setupConnection(Client.java:681)\n",
      "\tat org.apache.hadoop.ipc.Client$Connection.setupIOstreams(Client.java:777)\n",
      "\tat org.apache.hadoop.ipc.Client$Connection.access$3500(Client.java:409)\n",
      "\tat org.apache.hadoop.ipc.Client.getConnection(Client.java:1542)\n",
      "\tat org.apache.hadoop.ipc.Client.call(Client.java:1373)\n",
      "\tat org.apache.hadoop.ipc.Client.call(Client.java:1337)\n",
      "\tat org.apache.hadoop.ipc.ProtobufRpcEngine$Invoker.invoke(ProtobufRpcEngine.java:227)\n",
      "\tat org.apache.hadoop.ipc.ProtobufRpcEngine$Invoker.invoke(ProtobufRpcEngine.java:116)\n",
      "\tat com.sun.proxy.$Proxy16.getJobReport(Unknown Source)\n",
      "\tat org.apache.hadoop.mapreduce.v2.api.impl.pb.client.MRClientProtocolPBClientImpl.getJobReport(MRClientProtocolPBClientImpl.java:133)\n",
      "\tat sun.reflect.GeneratedMethodAccessor4.invoke(Unknown Source)\n",
      "\tat sun.reflect.DelegatingMethodAccessorImpl.invoke(DelegatingMethodAccessorImpl.java:43)\n",
      "\tat java.lang.reflect.Method.invoke(Method.java:498)\n",
      "\tat org.apache.hadoop.mapred.ClientServiceDelegate.invoke(ClientServiceDelegate.java:325)\n",
      "\tat org.apache.hadoop.mapred.ClientServiceDelegate.getJobStatus(ClientServiceDelegate.java:429)\n",
      "\tat org.apache.hadoop.mapred.YARNRunner.getJobStatus(YARNRunner.java:617)\n",
      "\tat org.apache.hadoop.mapreduce.Job$1.run(Job.java:323)\n",
      "\tat org.apache.hadoop.mapreduce.Job$1.run(Job.java:320)\n",
      "\tat java.security.AccessController.doPrivileged(Native Method)\n",
      "\tat javax.security.auth.Subject.doAs(Subject.java:422)\n",
      "\tat org.apache.hadoop.security.UserGroupInformation.doAs(UserGroupInformation.java:1807)\n",
      "\tat org.apache.hadoop.mapreduce.Job.updateStatus(Job.java:320)\n",
      "\tat org.apache.hadoop.mapreduce.Job.isComplete(Job.java:604)\n",
      "\tat org.apache.hadoop.mapreduce.Job.monitorAndPrintJob(Job.java:1400)\n",
      "\tat org.apache.hadoop.mapred.JobClient$NetworkedJob.monitorAndPrintJob(JobClient.java:412)\n",
      "\tat org.apache.hadoop.mapred.JobClient.monitorAndPrintJob(JobClient.java:892)\n",
      "\tat org.apache.hadoop.streaming.StreamJob.submitAndMonitorJob(StreamJob.java:1021)\n",
      "\tat org.apache.hadoop.streaming.StreamJob.run(StreamJob.java:135)\n",
      "\tat org.apache.hadoop.util.ToolRunner.run(ToolRunner.java:76)\n",
      "\tat org.apache.hadoop.util.ToolRunner.run(ToolRunner.java:90)\n",
      "\tat org.apache.hadoop.streaming.HadoopStreaming.main(HadoopStreaming.java:50)\n",
      "\tat sun.reflect.NativeMethodAccessorImpl.invoke0(Native Method)\n",
      "\tat sun.reflect.NativeMethodAccessorImpl.invoke(NativeMethodAccessorImpl.java:62)\n",
      "\tat sun.reflect.DelegatingMethodAccessorImpl.invoke(DelegatingMethodAccessorImpl.java:43)\n",
      "\tat java.lang.reflect.Method.invoke(Method.java:498)\n",
      "\tat org.apache.hadoop.util.RunJar.run(RunJar.java:234)\n",
      "\tat org.apache.hadoop.util.RunJar.main(RunJar.java:148)\n",
      "20/07/23 00:46:43 INFO ipc.Client: Retrying connect to server: 83d2bee5f05d/172.17.0.2:34941. Already tried 0 time(s); retry policy is RetryUpToMaximumCountWithFixedSleep(maxRetries=3, sleepTime=1000 MILLISECONDS)\n",
      "20/07/23 00:46:44 INFO ipc.Client: Retrying connect to server: 83d2bee5f05d/172.17.0.2:34941. Already tried 1 time(s); retry policy is RetryUpToMaximumCountWithFixedSleep(maxRetries=3, sleepTime=1000 MILLISECONDS)\n",
      "20/07/23 00:46:45 INFO ipc.Client: Retrying connect to server: 83d2bee5f05d/172.17.0.2:34941. Already tried 2 time(s); retry policy is RetryUpToMaximumCountWithFixedSleep(maxRetries=3, sleepTime=1000 MILLISECONDS)\n",
      "20/07/23 00:46:45 WARN ipc.Client: Failed to connect to server: 83d2bee5f05d/172.17.0.2:34941: retries get failed due to exceeded maximum allowed retries number: 3\n",
      "java.net.ConnectException: Connection refused\n",
      "\tat sun.nio.ch.SocketChannelImpl.checkConnect(Native Method)\n",
      "\tat sun.nio.ch.SocketChannelImpl.finishConnect(SocketChannelImpl.java:717)\n",
      "\tat org.apache.hadoop.net.SocketIOWithTimeout.connect(SocketIOWithTimeout.java:206)\n",
      "\tat org.apache.hadoop.net.NetUtils.connect(NetUtils.java:531)\n",
      "\tat org.apache.hadoop.net.NetUtils.connect(NetUtils.java:495)\n",
      "\tat org.apache.hadoop.ipc.Client$Connection.setupConnection(Client.java:681)\n",
      "\tat org.apache.hadoop.ipc.Client$Connection.setupIOstreams(Client.java:777)\n",
      "\tat org.apache.hadoop.ipc.Client$Connection.access$3500(Client.java:409)\n",
      "\tat org.apache.hadoop.ipc.Client.getConnection(Client.java:1542)\n",
      "\tat org.apache.hadoop.ipc.Client.call(Client.java:1373)\n",
      "\tat org.apache.hadoop.ipc.Client.call(Client.java:1337)\n",
      "\tat org.apache.hadoop.ipc.ProtobufRpcEngine$Invoker.invoke(ProtobufRpcEngine.java:227)\n",
      "\tat org.apache.hadoop.ipc.ProtobufRpcEngine$Invoker.invoke(ProtobufRpcEngine.java:116)\n",
      "\tat com.sun.proxy.$Proxy16.getTaskAttemptCompletionEvents(Unknown Source)\n",
      "\tat org.apache.hadoop.mapreduce.v2.api.impl.pb.client.MRClientProtocolPBClientImpl.getTaskAttemptCompletionEvents(MRClientProtocolPBClientImpl.java:177)\n",
      "\tat sun.reflect.NativeMethodAccessorImpl.invoke0(Native Method)\n",
      "\tat sun.reflect.NativeMethodAccessorImpl.invoke(NativeMethodAccessorImpl.java:62)\n",
      "\tat sun.reflect.DelegatingMethodAccessorImpl.invoke(DelegatingMethodAccessorImpl.java:43)\n",
      "\tat java.lang.reflect.Method.invoke(Method.java:498)\n",
      "\tat org.apache.hadoop.mapred.ClientServiceDelegate.invoke(ClientServiceDelegate.java:325)\n",
      "\tat org.apache.hadoop.mapred.ClientServiceDelegate.getTaskCompletionEvents(ClientServiceDelegate.java:396)\n",
      "\tat org.apache.hadoop.mapred.YARNRunner.getTaskCompletionEvents(YARNRunner.java:624)\n",
      "\tat org.apache.hadoop.mapreduce.Job$6.run(Job.java:724)\n",
      "\tat org.apache.hadoop.mapreduce.Job$6.run(Job.java:721)\n",
      "\tat java.security.AccessController.doPrivileged(Native Method)\n",
      "\tat javax.security.auth.Subject.doAs(Subject.java:422)\n",
      "\tat org.apache.hadoop.security.UserGroupInformation.doAs(UserGroupInformation.java:1807)\n",
      "\tat org.apache.hadoop.mapreduce.Job.getTaskCompletionEvents(Job.java:721)\n",
      "\tat org.apache.hadoop.mapreduce.Job.monitorAndPrintJob(Job.java:1422)\n",
      "\tat org.apache.hadoop.mapred.JobClient$NetworkedJob.monitorAndPrintJob(JobClient.java:412)\n",
      "\tat org.apache.hadoop.mapred.JobClient.monitorAndPrintJob(JobClient.java:892)\n",
      "\tat org.apache.hadoop.streaming.StreamJob.submitAndMonitorJob(StreamJob.java:1021)\n",
      "\tat org.apache.hadoop.streaming.StreamJob.run(StreamJob.java:135)\n",
      "\tat org.apache.hadoop.util.ToolRunner.run(ToolRunner.java:76)\n",
      "\tat org.apache.hadoop.util.ToolRunner.run(ToolRunner.java:90)\n",
      "\tat org.apache.hadoop.streaming.HadoopStreaming.main(HadoopStreaming.java:50)\n",
      "\tat sun.reflect.NativeMethodAccessorImpl.invoke0(Native Method)\n",
      "\tat sun.reflect.NativeMethodAccessorImpl.invoke(NativeMethodAccessorImpl.java:62)\n",
      "\tat sun.reflect.DelegatingMethodAccessorImpl.invoke(DelegatingMethodAccessorImpl.java:43)\n",
      "\tat java.lang.reflect.Method.invoke(Method.java:498)\n",
      "\tat org.apache.hadoop.util.RunJar.run(RunJar.java:234)\n",
      "\tat org.apache.hadoop.util.RunJar.main(RunJar.java:148)\n",
      "20/07/23 00:46:45 INFO mapreduce.Job: Job job_1595461094862_0004 failed with state FAILED due to: Application application_1595461094862_0004 failed 2 times due to AM Container for appattempt_1595461094862_0004_000002 exited with  exitCode: 137\n",
      "Failing this attempt.Diagnostics: Container killed on request. Exit code is 137\n",
      "Container exited with a non-zero exit code 137\n",
      "Killed by external signal\n",
      "For more detailed output, check the application tracking page: http://83d2bee5f05d:8088/cluster/app/application_1595461094862_0004 Then click on links to logs of each attempt.\n",
      ". Failing the application.\n",
      "20/07/23 00:46:45 INFO mapreduce.Job: Counters: 0\n",
      "20/07/23 00:46:45 ERROR streaming.StreamJob: Job not successful!\n",
      "Streaming Command Failed!\n",
      "cat: `/user/jovyan/job1/_temporary': Is a directory\n",
      "20/07/23 00:46:49 INFO client.RMProxy: Connecting to ResourceManager at /0.0.0.0:8032\n",
      "20/07/23 00:46:49 INFO client.RMProxy: Connecting to ResourceManager at /0.0.0.0:8032\n",
      "20/07/23 00:46:49 INFO mapred.FileInputFormat: Total input files to process : 0\n",
      "20/07/23 00:46:50 INFO mapreduce.JobSubmitter: number of splits:0\n",
      "20/07/23 00:46:50 INFO mapreduce.JobSubmitter: Submitting tokens for job: job_1595461094862_0005\n",
      "20/07/23 00:46:50 INFO impl.YarnClientImpl: Submitted application application_1595461094862_0005\n",
      "20/07/23 00:46:50 INFO mapreduce.Job: The url to track the job: http://83d2bee5f05d:8088/proxy/application_1595461094862_0005/\n",
      "20/07/23 00:46:50 INFO mapreduce.Job: Running job: job_1595461094862_0005\n",
      "20/07/23 00:46:55 INFO mapreduce.Job: Job job_1595461094862_0005 running in uber mode : false\n",
      "20/07/23 00:46:55 INFO mapreduce.Job:  map 0% reduce 0%\n",
      "20/07/23 00:47:00 INFO mapreduce.Job:  map 0% reduce 100%\n",
      "20/07/23 00:47:00 INFO mapreduce.Job: Job job_1595461094862_0005 completed successfully\n",
      "20/07/23 00:47:00 INFO mapreduce.Job: Counters: 38\n",
      "\tFile System Counters\n",
      "\t\tFILE: Number of bytes read=0\n",
      "\t\tFILE: Number of bytes written=139927\n",
      "\t\tFILE: Number of read operations=0\n",
      "\t\tFILE: Number of large read operations=0\n",
      "\t\tFILE: Number of write operations=0\n",
      "\t\tHDFS: Number of bytes read=0\n",
      "\t\tHDFS: Number of bytes written=0\n",
      "\t\tHDFS: Number of read operations=3\n",
      "\t\tHDFS: Number of large read operations=0\n",
      "\t\tHDFS: Number of write operations=2\n",
      "\tJob Counters \n",
      "\t\tLaunched reduce tasks=1\n",
      "\t\tTotal time spent by all maps in occupied slots (ms)=0\n",
      "\t\tTotal time spent by all reduces in occupied slots (ms)=1650\n",
      "\t\tTotal time spent by all reduce tasks (ms)=1650\n",
      "\t\tTotal vcore-milliseconds taken by all reduce tasks=1650\n",
      "\t\tTotal megabyte-milliseconds taken by all reduce tasks=1689600\n",
      "\tMap-Reduce Framework\n",
      "\t\tCombine input records=0\n",
      "\t\tCombine output records=0\n",
      "\t\tReduce input groups=0\n",
      "\t\tReduce shuffle bytes=0\n",
      "\t\tReduce input records=0\n",
      "\t\tReduce output records=0\n",
      "\t\tSpilled Records=0\n",
      "\t\tShuffled Maps =0\n",
      "\t\tFailed Shuffles=0\n",
      "\t\tMerged Map outputs=0\n",
      "\t\tGC time elapsed (ms)=40\n",
      "\t\tCPU time spent (ms)=220\n",
      "\t\tPhysical memory (bytes) snapshot=161234944\n",
      "\t\tVirtual memory (bytes) snapshot=1972281344\n",
      "\t\tTotal committed heap usage (bytes)=87031808\n",
      "\tShuffle Errors\n",
      "\t\tBAD_ID=0\n",
      "\t\tCONNECTION=0\n",
      "\t\tIO_ERROR=0\n",
      "\t\tWRONG_LENGTH=0\n",
      "\t\tWRONG_MAP=0\n",
      "\t\tWRONG_REDUCE=0\n",
      "\tFile Output Format Counters \n",
      "\t\tBytes Written=0\n",
      "20/07/23 00:47:00 INFO streaming.StreamJob: Output directory: /user/jovyan/job2/\n"
     ]
    }
   ],
   "source": [
    "%%bash\n",
    "\n",
    "#!/bin/bash\n",
    "\n",
    "\n",
    "# OUT_DIR=\"assignment1_\"$(date +\"%s%6N\")\n",
    "OUT_DIR=\"/user/${USER}/job1/\"\n",
    "# OUT_DIR2=\"answer_\"$(date +\"%s%6N\")\n",
    "OUT_DIR2=\"/user/${USER}/job2/\"\n",
    "\n",
    "hdfs dfs -rm -r -skipTrash ${OUT_DIR}\n",
    "hdfs dfs -rm -r -skipTrash ${OUT_DIR2}\n",
    "\n",
    "\n",
    "# Code for your first job\n",
    "yarn jar /opt/cloudera/parcels/CDH/lib/hadoop-mapreduce/hadoop-streaming.jar \\\n",
    "        -D mapreduce.job.name=\"Streaming wordcount\" \\\n",
    "        -D mapreduce.job.reduces=4 \\\n",
    "        -D mapreduce.job.maxtries=1 \\\n",
    "        -files mapper1.py,reducer1.py \\\n",
    "        -mapper \"python mapper1.py\" \\\n",
    "        -reducer \"python reducer1.py\" \\\n",
    "        -input /data/wiki/en_articles_part \\\n",
    "        -output ${OUT_DIR} > /dev/null\n",
    "\n",
    "# #         -combiner \"python2 reducer1.py\" \\\n",
    "\n",
    "# hdfs dfs -cat ${OUT_DIR}/* | head -n4\n",
    "\n",
    "\n",
    "# echo \"starting the second job.\"\n",
    "\n",
    "yarn jar /opt/cloudera/parcels/CDH/lib/hadoop-mapreduce/hadoop-streaming.jar \\\n",
    "        -D mapreduce.job.name=\"Streaming wordrating\" \\\n",
    "        -D mapreduce.job.reduces=1 \\\n",
    "        -D mapreduce.job.maxtries=1 \\\n",
    "        -D mapreduce.job.output.key.comparator.class=org.apache.hadoop.mapreduce.lib.partition.KeyFieldBasedComparator \\\n",
    "        -D mapreduce.partition.keycomparator.options=-k1,1nr \\\n",
    "        -files reducer2.py,mapper2.py \\\n",
    "        -mapper \"python mapper2.py\" \\\n",
    "        -reducer \"python reducer2.py\" \\\n",
    "        -input ${OUT_DIR} \\\n",
    "        -output ${OUT_DIR2} > /dev/null\n",
    "\n",
    "\n",
    "# # Code for obtaining the results\n",
    "hdfs dfs -cat ${OUT_DIR2}/part-00000 | sed -n '7p;8q'\n"
   ]
  },
  {
   "cell_type": "code",
   "execution_count": 19,
   "metadata": {},
   "outputs": [
    {
     "name": "stdout",
     "output_type": "stream",
     "text": [
      "Python 3.5.2\n"
     ]
    }
   ],
   "source": [
    "# %%bash\n",
    "\n",
    "# /usr/bin/python3 --version"
   ]
  },
  {
   "cell_type": "code",
   "execution_count": null,
   "metadata": {},
   "outputs": [],
   "source": [
    "# %%bash\n",
    "\n",
    "# OUT_DIR=\"/user/jovyan/job1/\"\n",
    "# # OUT_DIR2=\"answer_\"$(date +\"%s%6N\")\n",
    "# OUT_DIR2=\"/user/jovyan/job2/\"\n",
    "\n",
    "# hdfs dfs -rm -r -skipTrash ${OUT_DIR} > /dev/null\n",
    "# hdfs dfs -rm -r -skipTrash ${OUT_DIR2} > /dev/null"
   ]
  },
  {
   "cell_type": "code",
   "execution_count": null,
   "metadata": {},
   "outputs": [],
   "source": [
    "# %%bash\n",
    "\n",
    "# which cat\n",
    "# hdfs dfs -ls\n",
    "# ls /usr/bin/python*\n",
    "# hdfs dfs -cat answer/* | head -n10\n",
    "# hdfs dfs -rm -r answer\n",
    "# hdfs dfs -rm -r assignment1\n",
    "# hdfs dfs -cat assignment1_1594194332272282/* | head -n7"
   ]
  },
  {
   "cell_type": "code",
   "execution_count": null,
   "metadata": {},
   "outputs": [],
   "source": [
    "# %%bash\n",
    "\n",
    "# /usr/bin/python3.5 -c \"a=1; print(f'test{a}')\""
   ]
  }
 ],
 "metadata": {
  "colab": {
   "collapsed_sections": [],
   "default_view": {},
   "name": "701_to_students.ipynb",
   "provenance": [],
   "version": "0.3.2",
   "views": {}
  },
  "kernelspec": {
   "display_name": "Python 2",
   "language": "python",
   "name": "python2"
  },
  "language_info": {
   "codemirror_mode": {
    "name": "ipython",
    "version": 2
   },
   "file_extension": ".py",
   "mimetype": "text/x-python",
   "name": "python",
   "nbconvert_exporter": "python",
   "pygments_lexer": "ipython2",
   "version": "2.7.12"
  }
 },
 "nbformat": 4,
 "nbformat_minor": 1
}
