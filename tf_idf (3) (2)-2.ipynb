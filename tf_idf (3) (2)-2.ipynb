{
 "cells": [
  {
   "cell_type": "code",
   "execution_count": 33,
   "metadata": {},
   "outputs": [
    {
     "name": "stdout",
     "output_type": "stream",
     "text": [
      "Overwriting mapper.py\n"
     ]
    }
   ],
   "source": [
    "%%writefile mapper.py\n",
    "\n",
    "\n",
    "#!/usr/bin/python3\n",
    "\n",
    "import sys\n",
    "import re\n",
    "\n",
    "\n",
    "# path = '/datasets/stop_words_en.txt'\n",
    "path = 'stop_words_en.txt'\n",
    "\n",
    "# Your code for reading stop words here\n",
    "\n",
    "with open(path, 'r', encoding='utf-8') as f:\n",
    "    stop_words = set(f.read().split())\n",
    "    for line in f.readlines():\n",
    "        stop_words.append(line.strip())\n",
    "\n",
    "\n",
    "for line in sys.stdin:\n",
    "    try:\n",
    "        article_id, text = re.split('\\t', line.strip(), 1)\n",
    "    except ValueError as e:\n",
    "        continue\n",
    "    \n",
    "    text = text.lower()\n",
    "    article_id = int(article_id)\n",
    "    words = re.split(\"\\W*\\s+\\W*\", text, flags=re.UNICODE)\n",
    "    \n",
    "    if text.find(sys.argv[1]) >= 0:\n",
    "        sys.stderr.write(\"reporter:counter:Wiki stats,Dt,1\\n\")\n",
    "    sys.stderr.write(\"reporter:counter:Wiki stats,TOTAL,1\\n\")\n",
    "        \n",
    "    if article_id == 12:\n",
    "        for word in words:\n",
    "            word = word.strip()\n",
    "            if word not in stop_words:\n",
    "                sys.stderr.write(\"reporter:counter:Wiki stats,N_,1\\n\")\n",
    "#                 if word.find(sys.argv[1]) >= 0:\n",
    "                if word == sys.argv[1].strip():\n",
    "                    sys.stderr.write(\"reporter:counter:Wiki stats,Nt,1\\n\")\n",
    "#         if word.lower() in stop_words:\n",
    "#             sys.stderr.write(f\"reporter:counter:Wiki stats, {word.lower()},1\\n\")"
   ]
  },
  {
   "cell_type": "code",
   "execution_count": null,
   "metadata": {},
   "outputs": [
    {
     "name": "stdout",
     "output_type": "stream",
     "text": [
      "Overwriting counter_process.py\n"
     ]
    }
   ],
   "source": [
    "%%writefile counter_process.py\n",
    "\n",
    "#!/usr/bin/python3\n",
    "\n",
    "import sys\n",
    "import re\n",
    "from math import log\n",
    "\n",
    "\n",
    "# Your functions may be here.\n",
    "\n",
    "\n",
    "sw = 0.0\n",
    "tw = 0.0\n",
    "if __name__ == '__main__':\n",
    "    for line in sys.stdin:\n",
    "        if line.strip().find(\"Dt\") == 0:\n",
    "            Dt = float(re.search('(?<==)[0-9]*'.format(\"Dt\"), line)[0])\n",
    "        if line.strip().find(\"N_\") == 0:\n",
    "            N = float(re.search('(?<==)[0-9]*'.format(\"N_\"), line)[0])\n",
    "        if line.strip().find(\"Nt\") == 0:\n",
    "            Nt = float(re.search('(?<==)[0-9]*'.format(\"Nt\"), line)[0])\n",
    "#     sys.stdout.write(f'Dt={Dt}, Nt={Nt},N={N}\\n')\n",
    "    sys.stdout.write('{:0.6f}'.format((Nt/N)*(1./log(1.+Dt))))"
   ]
  },
  {
   "cell_type": "code",
   "execution_count": null,
   "metadata": {},
   "outputs": [],
   "source": [
    "%%bash\n",
    "\n",
    "OUT_DIR=\"coursera_mr_task2\"$(date +\"%s%6N\")\n",
    "# OUT_DIR=\"td_idf_task\"\n",
    "NUM_REDUCERS=8\n",
    "LOGS=\"stderr_logs.txt\"\n",
    "\n",
    "\n",
    "# Stub code for your job\n",
    "\n",
    "yarn jar /opt/cloudera/parcels/CDH/lib/hadoop-mapreduce/hadoop-streaming.jar \\\n",
    "    -D mapred.jab.name=\"Streaming stopwords\" \\\n",
    "    -D mapreduce.job.reduces=0 \\\n",
    "    -files mapper.py,/datasets/stop_words_en.txt \\\n",
    "    -mapper \"python3 mapper.py labor\" \\\n",
    "    -input /data/wiki/en_articles_part \\\n",
    "    -output ${OUT_DIR} > /dev/null 2> $LOGS\n",
    "\n",
    "# hdfs dfs -cat ${OUT_DIR}/* | head\n",
    "\n",
    "hdfs dfs -rm -r -skipTrash ${OUT_DIR} > /dev/null\n",
    "\n",
    "cat $LOGS | python3 ./counter_process.py\n",
    "\n",
    "cat $LOGS >&2"
   ]
  },
  {
   "cell_type": "code",
   "execution_count": null,
   "metadata": {},
   "outputs": [],
   "source": [
    "# !hdfs dfs -copyToLocal /data/wiki/en_articles_part"
   ]
  },
  {
   "cell_type": "code",
   "execution_count": null,
   "metadata": {},
   "outputs": [],
   "source": [
    "# Dt = 0\n",
    "# N=0\n",
    "# Nt=0\n",
    "# import re\n",
    "\n",
    "# path = '/datasets/stop_words_en.txt'\n",
    "\n",
    "# stop_words = []\n",
    "# with open(path, 'r') as f:\n",
    "#     for line in f.readlines():\n",
    "#         stop_words.append(line.strip().lower())\n",
    "        \n",
    "# with open(\"en_articles_part/articles-part\", \"r\") as f:\n",
    "#     lines = f.readlines()\n",
    "#     for line in lines:\n",
    "#         if line.lower().find(\"labor\")>=0:\n",
    "#             Dt += 1\n",
    "#         article_id, text = re.split('\\t', line.strip(), 1)\n",
    "#         if article_id == \"12\":\n",
    "#             text = text.lower()\n",
    "#             text = re.sub(\"^\\W+|\\W+$\", \"\", text, flags=re.UNICODE)\n",
    "#             text = re.sub(\"\\W*\\s+\\W*\", \" \", text, flags=re.UNICODE)\n",
    "# #             text = re.sub(\"\\W+(?=\\s+)|(?=\\s+)\\W+\", \"\", text, flags=re.UNICODE)\n",
    "# #             words = re.split(\"\\W*\\s+|\\s+\\W*|\\W*\\s+\\W*\", text, flags=re.UNICODE)\n",
    "# #             words = re.split(\"\\W*\\s+\\W*\", text, flags=re.UNICODE)\n",
    "#             words = re.split(\"\\s+\", text, flags=re.UNICODE)\n",
    "#             for word in words:\n",
    "#                 if word in stop_words:\n",
    "#                     continue\n",
    "#                 if word==\"labor\":\n",
    "#                     Nt += 1\n",
    "#                 print(word)\n",
    "#                 N += 1\n",
    "                \n",
    "# print(f\"Dt = {Dt}, N= {N}, Nt = {Nt}\")"
   ]
  },
  {
   "cell_type": "code",
   "execution_count": null,
   "metadata": {},
   "outputs": [],
   "source": []
  }
 ],
 "metadata": {
  "kernelspec": {
   "display_name": "Python 3",
   "language": "python",
   "name": "python3"
  },
  "language_info": {
   "codemirror_mode": {
    "name": "ipython",
    "version": 3
   },
   "file_extension": ".py",
   "mimetype": "text/x-python",
   "name": "python",
   "nbconvert_exporter": "python",
   "pygments_lexer": "ipython3",
   "version": "3.6.6"
  }
 },
 "nbformat": 4,
 "nbformat_minor": 2
}
