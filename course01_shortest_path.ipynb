{
 "cells": [
  {
   "cell_type": "code",
   "execution_count": 1,
   "metadata": {},
   "outputs": [],
   "source": [
    "from pyspark import SparkConf, SparkContext\n",
    "# sc = SparkContext.getOrCreate(conf=SparkConf().setAppName(\"MyApp\").setMaster(\"yarn\"))\n",
    "conf = SparkConf()\n",
    "conf.setMaster(\"yarn\")\n",
    "conf.setAppName(\"MyApp\")\n",
    "conf.set(\"spark.executor.instances\", \"1\")\n",
    "conf.set(\"spark.executor.cores\", \"1\")\n",
    "# conf.set(\"spark.executor.memory\", \"6g\")\n",
    "sc = SparkContext.getOrCreate(conf=conf)"
   ]
  },
  {
   "cell_type": "code",
   "execution_count": 2,
   "metadata": {},
   "outputs": [],
   "source": [
    "def parse_edge(s):\n",
    "    user, follower = s.split(\"\\t\")\n",
    "    return (int(follower), int(user))\n",
    "\n",
    "def step(item):\n",
    "    prev_v, prev_path, next_v = item[0], item[1][0], item[1][1]\n",
    "    new_path = prev_path + (next_v,)\n",
    "    return (next_v, new_path)\n"
   ]
  },
  {
   "cell_type": "code",
   "execution_count": 3,
   "metadata": {},
   "outputs": [],
   "source": [
    "def shortest_path(v_from, v_to, dataset_path, numPartitions=100):\n",
    "    edges = sc.textFile(dataset_path).map(parse_edge).cache()\n",
    "    x = v_from\n",
    "    d = 0\n",
    "    paths = sc.parallelize([(x, (v_from,))]).partitionBy(numPartitions)\n",
    "    i = 1\n",
    "    found = False\n",
    "    while True:\n",
    "        old_v = [item[0] for item in paths.collect()]\n",
    "        paths = paths.join(edges, numPartitions).map(step)\n",
    "        paths = paths.filter(lambda item: len(item[1])==i+1).persist()\n",
    "        i += 1\n",
    "        if paths.count() == 0:\n",
    "            break\n",
    "        if paths.filter(lambda item: item[0]==v_to).count() > 0:\n",
    "            path = paths.filter(lambda item: item[0]==v_to).collect()[0][1]\n",
    "            found = True\n",
    "            return ','.join([str(v) for v in path])\n",
    "        edges = edges.filter(lambda item: item[0] not in old_v).persist()\n",
    "            \n",
    "    if not found:\n",
    "        print(\"No valid path found.\")\n",
    "    return None\n",
    "\n",
    "        "
   ]
  },
  {
   "cell_type": "code",
   "execution_count": 4,
   "metadata": {},
   "outputs": [],
   "source": [
    "path = shortest_path(12, 34, \"/data/twitter/twitter_sample_small.txt\", 2)"
   ]
  },
  {
   "cell_type": "code",
   "execution_count": 5,
   "metadata": {},
   "outputs": [],
   "source": [
    "sc.stop()"
   ]
  },
  {
   "cell_type": "code",
   "execution_count": 6,
   "metadata": {},
   "outputs": [
    {
     "name": "stdout",
     "output_type": "stream",
     "text": [
      "12,422,53,52,107,20,23,274,34\n"
     ]
    }
   ],
   "source": [
    "print(path)"
   ]
  }
 ],
 "metadata": {
  "kernelspec": {
   "display_name": "Python 2",
   "language": "python",
   "name": "python2"
  },
  "language_info": {
   "codemirror_mode": {
    "name": "ipython",
    "version": 2
   },
   "file_extension": ".py",
   "mimetype": "text/x-python",
   "name": "python",
   "nbconvert_exporter": "python",
   "pygments_lexer": "ipython2",
   "version": "2.7.12"
  }
 },
 "nbformat": 4,
 "nbformat_minor": 2
}
